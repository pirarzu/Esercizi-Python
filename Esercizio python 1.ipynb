{
 "cells": [
  {
   "cell_type": "code",
   "execution_count": 2,
   "id": "6b73c2ca-bfc8-4d66-8098-731994c29de5",
   "metadata": {},
   "outputs": [
    {
     "data": {
      "text/plain": [
       "' fare la spesa\\nfai la lista\\nvai al supermercato\\ninfastidisci chi ci lavora\\nprendi ciò che è sulla lista\\nvai alla cassa\\npaga\\ntorna a casa\\n'"
      ]
     },
     "execution_count": 2,
     "metadata": {},
     "output_type": "execute_result"
    }
   ],
   "source": [
    "\"\"\" \n",
    "fare la spesa:\n",
    "\n",
    "\n",
    "fai la lista\n",
    "sale, pasta, sugo\n",
    "vai al supermercato\n",
    "infastidisci chi ci lavora\n",
    "prendi sale\n",
    "prendi pasta\n",
    "prendi sugo\n",
    "vai alla cassa\n",
    "paga\n",
    "metti sale nella busta\n",
    "metti pasta nella busta\n",
    "metti sugo nella busta\n",
    "torna a casa\n",
    "\n",
    "\"\"\""
   ]
  },
  {
   "cell_type": "code",
   "execution_count": 3,
   "id": "82c6d37a-f271-4cc5-8a2d-d7b6c8444c9b",
   "metadata": {},
   "outputs": [
    {
     "data": {
      "text/plain": [
       "'\\nacquistare uno snack da un distributore automatico:\\n\\nverifica il prezzo del prodotto \\ninserisci la monera\\ninserisci nel tastierino il numero corrispondente al prodotto\\naspetta che venga erogato\\npreleva il prodotto\\n'"
      ]
     },
     "execution_count": 3,
     "metadata": {},
     "output_type": "execute_result"
    }
   ],
   "source": [
    "\"\"\"\n",
    "acquistare uno snack da un distributore automatico:\n",
    "\n",
    "verifica il prezzo del prodotto \n",
    "inserisci la monera\n",
    "inserisci nel tastierino il numero corrispondente al prodotto\n",
    "aspetta che venga erogato\n",
    "preleva il prodotto\n",
    "\n",
    "\"\"\""
   ]
  },
  {
   "cell_type": "code",
   "execution_count": null,
   "id": "1912f6d3-cdad-46e2-85f3-99b7988ba91f",
   "metadata": {},
   "outputs": [],
   "source": [
    "\"\"\"\n",
    "Fare la pasta:\n",
    "\n",
    "\n",
    "mettere l'acqua nella pentola\n",
    "mettere la pentola sul fuoco \n",
    "aspettare che l'acqua bolla\n",
    "mettere la pasta\n",
    "aspettare che sia cotta\n",
    "scolare la pasta\n",
    "condire la pasta\n",
    "\n",
    "\"\"\""
   ]
  },
  {
   "cell_type": "code",
   "execution_count": 4,
   "id": "f1e1698f-940d-4a6b-9bcb-a7e5b37a0f1f",
   "metadata": {},
   "outputs": [],
   "source": [
    "#Abbiamo 25 studenti; memorizzare questo dato in una variabile.\n",
    "\n",
    "numero_studenti= 25"
   ]
  },
  {
   "cell_type": "code",
   "execution_count": 5,
   "id": "5ce098ae-3579-4f1f-a444-4a6ba62a741f",
   "metadata": {},
   "outputs": [
    {
     "name": "stdout",
     "output_type": "stream",
     "text": [
      "25\n"
     ]
    }
   ],
   "source": [
    "# Abbiamo 25 studenti; memorizzare questo dato in una variabile e stamparla a video.\n",
    "\n",
    "print(numero_studenti)"
   ]
  },
  {
   "cell_type": "code",
   "execution_count": 9,
   "id": "e80f22df-11af-4c90-9ef0-f53e8bc38be2",
   "metadata": {},
   "outputs": [],
   "source": [
    "\n",
    "# Abbiamo 25 studenti; memorizzare questo dato in una variabile. Arrivano altri 3 studenti; memorizzare questo dato in un'altra variabile.\n",
    "numero_studenti= 25\n",
    "nuovi_studenti= 3\n"
   ]
  },
  {
   "cell_type": "code",
   "execution_count": 10,
   "id": "7339dccf-f7ed-4d67-b22d-8de1ce00c0b3",
   "metadata": {},
   "outputs": [
    {
     "name": "stdout",
     "output_type": "stream",
     "text": [
      "28\n"
     ]
    }
   ],
   "source": [
    "\"\"\"\n",
    "Abbiamo 25 studenti; memorizzare questo dato in una variabile. Arrivano altri 3 studenti; \n",
    "memorizzare questo dato in un'altra variabile. Creare un'altra variabile ancora che conterrà la somma delle prime due, poi stamparla a video.\n",
    "\"\"\"\n",
    "numero_studenti= 25\n",
    "nuovi_studenti= 3\n",
    "numero_studenti += nuovi_studenti\n",
    "print(numero_studenti)"
   ]
  },
  {
   "cell_type": "code",
   "execution_count": 11,
   "id": "02529c47-52ad-43da-83f5-7117160ccf95",
   "metadata": {},
   "outputs": [
    {
     "name": "stdout",
     "output_type": "stream",
     "text": [
      "Epicode\n"
     ]
    }
   ],
   "source": [
    "#Creare una variabile che contiene la stringa \"Epicode\", quindi stamparla a video.\n",
    "nome_scuola= \"Epicode\"\n",
    "print(nome_scuola)"
   ]
  },
  {
   "cell_type": "code",
   "execution_count": 1,
   "id": "87a7c989-f0ad-44d9-b2cc-4214d11cf7ab",
   "metadata": {},
   "outputs": [
    {
     "name": "stdout",
     "output_type": "stream",
     "text": [
      "36\n"
     ]
    }
   ],
   "source": [
    "\"\"\"\n",
    "Abbiamo la variabile: \n",
    "x = 10\n",
    "\n",
    "Incrementarla di 2 e poi moltiplicarla per 3 Usare due metodi diversi \n",
    "(ad esempio, uno utilizzando gli operatori di assegnazione, e uno senza)\n",
    "\"\"\"\n",
    "\n",
    "x=10\n",
    "print((x+2)*3)"
   ]
  },
  {
   "cell_type": "code",
   "execution_count": 15,
   "id": "924becbb-fdd3-4b68-8341-0fd6ab744800",
   "metadata": {
    "scrolled": true
   },
   "outputs": [
    {
     "name": "stdout",
     "output_type": "stream",
     "text": [
      "36\n"
     ]
    }
   ],
   "source": [
    "x=10\n",
    "x=(x+2)*3\n",
    "print(x)"
   ]
  },
  {
   "cell_type": "code",
   "execution_count": 6,
   "id": "2b86b05f-53b7-4aaf-a4ae-fc6da2c6586d",
   "metadata": {},
   "outputs": [
    {
     "name": "stdout",
     "output_type": "stream",
     "text": [
      "Windows è compreso\n",
      "Excel non è compreso\n",
      "Powerpoint non è compreso\n",
      "Word non è compreso\n"
     ]
    }
   ],
   "source": [
    "\"\"\"\n",
    "Verificare, per ognuna delle seguenti stringhe,\n",
    "se il numero di caratteri è compreso tra 5 e 8:\n",
    "\n",
    "• str1 = \"Windows\" \n",
    "• str2 = \"Excel\" \n",
    "• str3 = \"Powerpoint\" \n",
    "• str4 = \"Word\"\n",
    "\"\"\"\n",
    "str1 = \"Windows\" \n",
    "str2 = \"Excel\" \n",
    "str3 = \"Powerpoint\" \n",
    "str4 = \"Word\"\n",
    "\n",
    "lista=[str1,str2,str3,str4]\n",
    "for stringa in lista:\n",
    "    if 5<len(stringa)<8:\n",
    "        print(stringa + \" è compreso\")\n",
    "    else:\n",
    "        print(stringa + \" non è compreso\")"
   ]
  },
  {
   "cell_type": "code",
   "execution_count": 7,
   "id": "412aeb80-a0b8-4451-8ded-49ed2e1c8abb",
   "metadata": {},
   "outputs": [
    {
     "name": "stdout",
     "output_type": "stream",
     "text": [
      "31536000\n"
     ]
    }
   ],
   "source": [
    "#Calcolare e stampare a video quanti secondi ci sono in un anno non bisestile.\n",
    "\n",
    "giorni_anno= 365\n",
    "ore_giorno=24\n",
    "secondi_ora=3600\n",
    "\n",
    "print(giorni_anno*ore_giorno*secondi_ora)\n"
   ]
  },
  {
   "cell_type": "code",
   "execution_count": 9,
   "id": "a8c94a80-a453-4ae7-9f2b-af261c7192ec",
   "metadata": {},
   "outputs": [
    {
     "name": "stdout",
     "output_type": "stream",
     "text": [
      "I AM STUDYING PYTHON\n",
      "i am studying python\n",
      "I am studying a lot\n",
      "I am studying Python\n"
     ]
    }
   ],
   "source": [
    "\"\"\"\n",
    "Abbiamo la seguente stringa: \n",
    "my_string = \"I am studying Python\"\n",
    "\n",
    "• Trasformarla in modo che tutti i caratteri siano maiuscoli (uppercase) \n",
    "• Trasformarla in modo che tutti i caratteri siano minuscoli (lowercase) \n",
    "• Sostituire la sottostringa \"Python\" con la stringa \"a lot\" \n",
    "• Usare il metodo .strip(); cambia qualcosa? Perché?\n",
    "\"\"\"\n",
    "\n",
    "my_string = \"I am studying Python\"\n",
    "print(my_string.upper())\n",
    "print(my_string.lower())\n",
    "print(my_string.replace(\"Python\",\"a lot\"))\n",
    "print(my_string.strip())\n",
    "\n",
    "\n",
    "#• Usare il metodo .strip(); cambia qualcosa? Perché?\n",
    "#non cambia nulla perché non ci sono spazi all'inizio e alla fine"
   ]
  },
  {
   "cell_type": "code",
   "execution_count": null,
   "id": "bd47b4f5-0ffa-4827-b701-061762b3ee70",
   "metadata": {},
   "outputs": [],
   "source": []
  }
 ],
 "metadata": {
  "kernelspec": {
   "display_name": "Python 3 (ipykernel)",
   "language": "python",
   "name": "python3"
  },
  "language_info": {
   "codemirror_mode": {
    "name": "ipython",
    "version": 3
   },
   "file_extension": ".py",
   "mimetype": "text/x-python",
   "name": "python",
   "nbconvert_exporter": "python",
   "pygments_lexer": "ipython3",
   "version": "3.11.7"
  }
 },
 "nbformat": 4,
 "nbformat_minor": 5
}
