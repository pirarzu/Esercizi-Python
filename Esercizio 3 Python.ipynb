{
 "cells": [
  {
   "cell_type": "raw",
   "id": "bbca2088-5244-4af3-8506-a33b4dcc02a1",
   "metadata": {},
   "source": [
    "Esercizio \n",
    "Abbiamo una lista di liste:\n",
    "mat = [[0, 1, 2, 3, 4], [5, 6, 7, 8, 9], [10, 11, 12, 13, 14]]\n",
    "Che tipo di struttura dati o matematica potrebbe rappresentare?\n",
    "Notare che tutte le liste \"interne\" sono della stessa dimensione\n",
    "Come facciamo per accedere ad un elemento in particolare?"
   ]
  },
  {
   "cell_type": "code",
   "execution_count": 1,
   "id": "2f2e703f-b879-413b-b58a-e875acae8703",
   "metadata": {},
   "outputs": [
    {
     "name": "stdout",
     "output_type": "stream",
     "text": [
      "9\n"
     ]
    }
   ],
   "source": [
    "import numpy as np\n",
    "\n",
    "mat = [[0, 1, 2, 3, 4], [5, 6, 7, 8, 9], [10, 11, 12, 13, 14]]\n",
    "arr=np.array(mat)\n",
    "#per accedere usiamo gli indici in ordine decrescente, cioè dall'aarray, a ciò che c'è dentro\n",
    "print(arr[1,4])\n",
    "\n"
   ]
  },
  {
   "cell_type": "raw",
   "id": "0445478a-8ff6-4e6d-8ff7-30a635491245",
   "metadata": {},
   "source": [
    "Esercizio\n",
    "Importiamo il modulo math\n",
    "e proviamo a usare le funzioni\n",
    ".sin() \n",
    ".cos() \n",
    ".factorial() \n",
    "e la variabile .pi la riconoscete?"
   ]
  },
  {
   "cell_type": "code",
   "execution_count": 11,
   "id": "f078e863-88b3-44c4-aa2f-db93f60c7993",
   "metadata": {},
   "outputs": [
    {
     "name": "stdin",
     "output_type": "stream",
     "text": [
      "inserisci un numero:  5\n"
     ]
    },
    {
     "name": "stdout",
     "output_type": "stream",
     "text": [
      "-0.9589242746631385\n",
      "0.28366218546322625\n",
      "120\n",
      "3.141592653589793\n"
     ]
    }
   ],
   "source": [
    "import math\n",
    "\n",
    "x=int(input(\"inserisci un numero: \"))\n",
    "\n",
    "print(math.sin(x))\n",
    "print(math.cos(x))\n",
    "print(math.factorial(x))\n",
    "\n",
    "print(math.pi)"
   ]
  },
  {
   "cell_type": "raw",
   "id": "5dda76b1-4b04-42f2-a0e7-62f94f88c3b6",
   "metadata": {},
   "source": [
    "Esercizio \n",
    "Proviamo a eseguire \n",
    "math.degrees(math.pi) \n",
    "Qual è e cosa significa il risultato?\n",
    "Per saperne di più su questa funzione possiamo usare \n",
    "help(math.degrees)"
   ]
  },
  {
   "cell_type": "code",
   "execution_count": 12,
   "id": "8701fc69-0cef-4fa6-8d72-66471a46a701",
   "metadata": {},
   "outputs": [
    {
     "data": {
      "text/plain": [
       "180.0"
      ]
     },
     "execution_count": 12,
     "metadata": {},
     "output_type": "execute_result"
    }
   ],
   "source": [
    "#gradi angolo pi\n",
    "math.degrees(math.pi) \n"
   ]
  },
  {
   "cell_type": "code",
   "execution_count": 13,
   "id": "979c840b-a918-4f21-b9a1-b0663c7749fc",
   "metadata": {},
   "outputs": [
    {
     "name": "stdout",
     "output_type": "stream",
     "text": [
      "Help on built-in function degrees in module math:\n",
      "\n",
      "degrees(x, /)\n",
      "    Convert angle x from radians to degrees.\n",
      "\n"
     ]
    }
   ],
   "source": [
    "help(math.degrees)"
   ]
  },
  {
   "cell_type": "markdown",
   "id": "d5c3ffde-1b1e-4869-84f0-9b3a39861fa5",
   "metadata": {},
   "source": [
    "Esercizio\n",
    "L'azienda Object SpA ha creato una lista\n",
    "di quanti oggetti ha venduto ogni mese nell'ultimo anno:\n",
    "\n",
    "lst = [2000, 5500, 7200, 4320, 1280, 1900, 2500, 3900, 6410, 8150, 7100, 5350]\n",
    "\n",
    "trasformiamola in un\n",
    "array NumPy\n",
    "(casting): lst = np.array(lst) \n",
    "e rispondiamo alle domande del CEO della Object SpA:\n",
    "• qual è stata la vendita massima mensile? E quella minima?\n",
    "• quali sono le vendite mensili maggiori di 4999 oggetti? E quante ne sono?\n",
    "• quali sono le vendite minori di 3000 oggetti? \n",
    "• in media quanti oggetti sono stati venduti al mese?"
   ]
  },
  {
   "cell_type": "code",
   "execution_count": 20,
   "id": "9ed66dd9-84d5-468a-8c01-50962aa5b0bd",
   "metadata": {},
   "outputs": [
    {
     "name": "stdout",
     "output_type": "stream",
     "text": [
      "8150\n",
      "1280\n"
     ]
    }
   ],
   "source": [
    "lst = [2000, 5500, 7200, 4320, 1280, 1900, 2500, 3900, 6410, 8150, 7100, 5350]\n",
    "\n",
    "arr=np.array(lst)\n",
    "\n",
    "# qual è stata la vendita massima mensile? E quella minima?\n",
    "print(arr.max())\n",
    "print(arr.min())\n"
   ]
  },
  {
   "cell_type": "code",
   "execution_count": 25,
   "id": "4b5e37bb-05cd-4bb4-97fc-8c5279263b7c",
   "metadata": {},
   "outputs": [
    {
     "name": "stdout",
     "output_type": "stream",
     "text": [
      "[5500 7200 6410 8150 7100 5350]\n",
      "6\n"
     ]
    }
   ],
   "source": [
    "# quali sono le vendite mensili maggiori di 4999 oggetti? E quante ne sono?\n",
    "filtro=arr[arr > 4999]\n",
    "print(filtro)\n",
    "print(len(filtro))\n"
   ]
  },
  {
   "cell_type": "code",
   "execution_count": 27,
   "id": "fe700f3d-f197-41cb-8648-f37c1391f934",
   "metadata": {},
   "outputs": [
    {
     "name": "stdout",
     "output_type": "stream",
     "text": [
      "[2000 1280 1900 2500]\n"
     ]
    }
   ],
   "source": [
    "# quali sono le vendite minori di 3000 oggetti? \n",
    "print(arr[arr<3000])\n",
    "\n"
   ]
  },
  {
   "cell_type": "code",
   "execution_count": 29,
   "id": "bb87e94d-a10a-4064-af45-4dfd60d89143",
   "metadata": {},
   "outputs": [
    {
     "name": "stdout",
     "output_type": "stream",
     "text": [
      "4634.166666666667\n"
     ]
    }
   ],
   "source": [
    "# in media quanti oggetti sono stati venduti al mese?\n",
    "\n",
    "print(arr.mean())"
   ]
  },
  {
   "cell_type": "raw",
   "id": "0dfbc5f9-06ca-46b2-b9f2-fabaf20356ec",
   "metadata": {},
   "source": [
    "Esercizio\n",
    "Consideriamo il seguente dizionario:\n",
    "fatturati_dict = {1997: 12_000, 1998: 15_000, 1999: 20_000, 2000: 23_000, 2001: 25_000, 2002: 17_000, 2003: 14_000, 2004: 21_000} \n",
    "Consideriamo ora la seguente Series:\n",
    "fatturati_series = pd.Series([12_000, 15_000, 20_000, 23_000, 25_000, 17_000, 14_000, 21_000], index=range(1997, 2005)) \n",
    "Possiamo accedere alle stesse informazioni nello stesso modo: \n",
    "fatturati_dict[1997]\n",
    "fatturati_series[1997]\n",
    "\n",
    "Dunque qual è la differenza tra i due tipi di dato?\n",
    "Cosa potremmo fare con la Series che non possiamo fare con il dizionario?\n",
    "\n",
    "Calcolare statistiche descrittive \n",
    "Filtrare e aggregare dati in base a criteri specifici\n",
    "Eseguire operazioni matematiche come somma, media, prodotto, divisione, ecc. su serie di dati"
   ]
  },
  {
   "cell_type": "raw",
   "id": "80762b4d-db36-432e-835b-0667af71b9d4",
   "metadata": {},
   "source": [
    "Esercizio\n",
    "L'azienda Object SpA ha un dataset con tutti gli stipendi dei dipendenti, \n",
    "memorizzato in un ndarray:\n",
    "import numpy as np\n",
    "stipendi = np.array( [100, 200, 300, 400, 500,  600, 700, 800, 900, 1000] )\n",
    "L'azienda ci chiede di raddoppiare tutti gli stipendi; \n",
    "facciamolo in due modi: \n",
    "• con un ciclo for\n",
    "• con il masking"
   ]
  },
  {
   "cell_type": "code",
   "execution_count": 42,
   "id": "7415af2a-4ea3-44aa-94a5-5c0565217f5c",
   "metadata": {},
   "outputs": [
    {
     "name": "stdout",
     "output_type": "stream",
     "text": [
      "[200, 400, 600, 800, 1000, 1200, 1400, 1600, 1800, 2000]\n"
     ]
    }
   ],
   "source": [
    "stipendi = np.array( [100, 200, 300, 400, 500,  600, 700, 800, 900, 1000] )\n",
    "stip_rad=[]\n",
    "\n",
    "for stipendio in stipendi:\n",
    "    stip_rad.append(stipendio*2)\n",
    "print(stip_rad)"
   ]
  },
  {
   "cell_type": "code",
   "execution_count": 43,
   "id": "920f3328-f717-4c0c-a657-46032f70c3ff",
   "metadata": {},
   "outputs": [
    {
     "name": "stdout",
     "output_type": "stream",
     "text": [
      "[ 200  400  600  800 1000 1200 1400 1600 1800 2000]\n"
     ]
    }
   ],
   "source": [
    "stipendi = np.array( [100, 200, 300, 400, 500,  600, 700, 800, 900, 1000] )\n",
    "\n",
    "print(stipendi*2)"
   ]
  },
  {
   "cell_type": "code",
   "execution_count": null,
   "id": "72365eca-6c31-4121-9758-6418360aa203",
   "metadata": {},
   "outputs": [],
   "source": []
  }
 ],
 "metadata": {
  "kernelspec": {
   "display_name": "Python 3 (ipykernel)",
   "language": "python",
   "name": "python3"
  },
  "language_info": {
   "codemirror_mode": {
    "name": "ipython",
    "version": 3
   },
   "file_extension": ".py",
   "mimetype": "text/x-python",
   "name": "python",
   "nbconvert_exporter": "python",
   "pygments_lexer": "ipython3",
   "version": "3.11.7"
  }
 },
 "nbformat": 4,
 "nbformat_minor": 5
}
