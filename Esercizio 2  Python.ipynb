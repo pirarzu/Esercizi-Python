{
 "cells": [
  {
   "cell_type": "code",
   "execution_count": 3,
   "id": "93b0baf1-26b2-4f2a-a899-8f2c014e7624",
   "metadata": {},
   "outputs": [
    {
     "name": "stdout",
     "output_type": "stream",
     "text": [
      "E\n",
      "p\n",
      "i\n",
      "c\n",
      "o\n",
      "d\n",
      "e\n"
     ]
    }
   ],
   "source": [
    "\"\"\"\n",
    "Abbiamo la stringa: \n",
    "nome_scuola = \"Epicode\" \n",
    "Stampare ogni carattere della stringa, uno su ogni riga, utilizzando un costrutto while.\n",
    "\"\"\"\n",
    "nome_scuola = \"Epicode\" \n",
    "i=0\n",
    "while i< len(nome_scuola):\n",
    "    print(nome_scuola[i])\n",
    "    i+=1\n",
    "    \n"
   ]
  },
  {
   "cell_type": "code",
   "execution_count": 4,
   "id": "ccf13c7d-a846-4d3b-8507-486828aac51b",
   "metadata": {},
   "outputs": [
    {
     "name": "stdout",
     "output_type": "stream",
     "text": [
      "0\n",
      "1\n",
      "2\n",
      "3\n",
      "4\n",
      "5\n",
      "6\n",
      "7\n",
      "8\n",
      "9\n",
      "10\n",
      "11\n",
      "12\n",
      "13\n",
      "14\n",
      "15\n",
      "16\n",
      "17\n",
      "18\n",
      "19\n",
      "20\n"
     ]
    }
   ],
   "source": [
    "\"\"\"\n",
    "Esercizio Stampare a video tutti i numeri \n",
    "da 0 a 20 utilizzando il costrutto while. \n",
    "Utilizzeremo: \n",
    "• un ciclo while \n",
    "• la funzione print() \n",
    "• una variabile, che dovrà essere inizializzata \n",
    "• una procedura di incremento\n",
    "\"\"\"\n",
    "\n",
    "i=0\n",
    "\n",
    "while i<=20:\n",
    "    print(i)\n",
    "    i+=1"
   ]
  },
  {
   "cell_type": "code",
   "execution_count": 7,
   "id": "fbf4248a-e16f-47a3-87f7-135a9bdd56c1",
   "metadata": {},
   "outputs": [
    {
     "name": "stdout",
     "output_type": "stream",
     "text": [
      "1\n",
      "2\n",
      "4\n",
      "8\n",
      "16\n",
      "32\n",
      "64\n",
      "128\n",
      "256\n",
      "512\n"
     ]
    }
   ],
   "source": [
    "\"\"\"\n",
    "Esercizio Calcolare e stampare tutte le prime 10 potenze di 2 \n",
    "(e.g., 2⁰, 2¹, 2², …) utilizzando un ciclo while.\n",
    "\"\"\"\n",
    "\n",
    "i=0\n",
    "\n",
    "while i<10:\n",
    "    print(2**i)\n",
    "    i+=1"
   ]
  },
  {
   "cell_type": "code",
   "execution_count": 10,
   "id": "c113ade4-d771-4f68-b26d-9e843a7025c5",
   "metadata": {},
   "outputs": [
    {
     "name": "stdin",
     "output_type": "stream",
     "text": [
      "inserisci N :  5\n"
     ]
    },
    {
     "name": "stdout",
     "output_type": "stream",
     "text": [
      "32\n",
      "16\n",
      "8\n",
      "4\n",
      "2\n"
     ]
    }
   ],
   "source": [
    "\"\"\"\n",
    "Esercizio Calcolare e stampare tutte le prime N potenze di 2 \n",
    "utilizzando un ciclo while, \n",
    "domandando all'utente di inserire N.\n",
    "\"\"\"\n",
    "n=int(input(\"inserisci N : \"))\n",
    "while n>0:\n",
    "    print(2**n)\n",
    "    n-=1\n"
   ]
  },
  {
   "cell_type": "code",
   "execution_count": 12,
   "id": "24e7ee1f-1a9d-40ae-9322-07f54ead6d1d",
   "metadata": {},
   "outputs": [
    {
     "name": "stdout",
     "output_type": "stream",
     "text": [
      "1\n",
      "2\n",
      "4\n",
      "8\n",
      "16\n",
      "32\n",
      "64\n",
      "128\n",
      "256\n",
      "512\n",
      "1024\n",
      "2048\n",
      "4096\n",
      "8192\n",
      "16384\n"
     ]
    }
   ],
   "source": [
    "\"\"\"\n",
    "Esercizio Calcolare e stampare tutte le potenze di 2 minori di 25000.\n",
    "\"\"\"\n",
    "limite=25000\n",
    "i=0\n",
    "while 2**i<limite:\n",
    "    print(2**i)\n",
    "    i+=1"
   ]
  },
  {
   "cell_type": "code",
   "execution_count": null,
   "id": "8f0af6e5-4f80-4da2-891b-c9430b018150",
   "metadata": {},
   "outputs": [],
   "source": [
    "\"\"\"\n",
    "Esercizio (1/2) \n",
    "Abbiamo due liste, una di studenti e una di corsi:\n",
    "studenti = [\"Alex\", \"Bob\", \"Cindy\", \"Dan\", \"Emma\", \"Faith\", \"Grace\", \"Henry\"] \n",
    "corsi = [\"Cybersecurity\", \"Data Analyst\", \"Backend\", \"Frontend\", \"Data Analyst\", \"Backend\"]\n",
    "\"\"\""
   ]
  },
  {
   "cell_type": "code",
   "execution_count": 1,
   "id": "15ecb1f3-f2f6-427c-9cfd-8ea724613021",
   "metadata": {},
   "outputs": [
    {
     "name": "stdout",
     "output_type": "stream",
     "text": [
      "['Alex', 'Bob', 'Cindy', 'Dan', 'Emma', 'Faith', 'Grace', 'Henry']\n"
     ]
    }
   ],
   "source": [
    "\"\"\"\n",
    "Esercizio (2/2)\n",
    "Aggiungere i dati mancanti alla lista corsi, sapendo che \n",
    "\n",
    "Emma segue Data Analyst \n",
    "Faith segue Backend \n",
    "Grace segue Frontend \n",
    "Henry segue Cybersecurity \n",
    "\n",
    "Aggiungeremo i dati mancanti uno alla volta \n",
    "con il metodo per appendere in coda alle liste, \n",
    "poi verificheremo che sono della stessa lunghezza \n",
    "e se lo sono stamperemo la lista corsi. \n",
    "Se alcuni dati sono già presenti non vanno aggiunti \n",
    "\"\"\"\n",
    "studenti = [\"Alex\", \"Bob\", \"Cindy\", \"Dan\", \"Emma\", \"Faith\", \"Grace\", \"Henry\"] \n",
    "corsi = [\"Cybersecurity\", \"Data Analyst\", \"Backend\", \"Frontend\", \"Data Analyst\", \"Backend\"]\n",
    "corsi.append(\"Cybersecurity\")\n",
    "corsi.append(\"Backend\")\n",
    "if len(corsi)==len(studenti):\n",
    "    print(studenti)"
   ]
  },
  {
   "cell_type": "code",
   "execution_count": 8,
   "id": "eb8918fb-155d-42fc-8d2c-0f3bef7ca17f",
   "metadata": {},
   "outputs": [
    {
     "name": "stdin",
     "output_type": "stream",
     "text": [
      "Inserisci una stringa di almeno 6 caratteri:  salame\n"
     ]
    },
    {
     "name": "stdout",
     "output_type": "stream",
     "text": [
      "sal...ame\n"
     ]
    }
   ],
   "source": [
    "\"\"\"\n",
    "Esercizio Scriviamo un programma che \n",
    "chiede in input all'utente una stringa e \n",
    "visualizza i primi 3 caratteri, \n",
    "seguiti da 3 punti di sospensione e \n",
    "quindi gli ultimi 3 caratteri, \n",
    "similmente all'esercizio della lezione scorsa. \n",
    "Stavolta facciamo attenzione a tutti i casi particolari, \n",
    "ovvero implementare soluzioni ad hoc per stringhe di lunghezza inferiore a 6 caratteri.\n",
    "\"\"\"\n",
    "str=input(\"Inserisci una stringa di almeno 6 caratteri: \")\n",
    "\n",
    "if len(str)>=6:\n",
    "    print(str[0:3] + \"...\" + str[-3:])\n",
    "else:\n",
    "    print(\"è troppo corta\")"
   ]
  },
  {
   "cell_type": "code",
   "execution_count": null,
   "id": "3a3e2149-9b45-4c94-9fbc-5f418fccad47",
   "metadata": {},
   "outputs": [
    {
     "name": "stdin",
     "output_type": "stream",
     "text": [
      "inserisci un valore:  150\n"
     ]
    },
    {
     "name": "stdout",
     "output_type": "stream",
     "text": [
      "2\n",
      "3\n",
      "5\n",
      "5\n"
     ]
    }
   ],
   "source": [
    "\"\"\"\n",
    "Esercizio Memorizza e stampa tutti i fattori di un numero dato in input.\n",
    "Esempio: \n",
    "• input: 150 \n",
    "• output: [2, 3, 5, 5]\n",
    "\"\"\"\n",
    "\n",
    "valore=int(input(\"inserisci un valore: \"))\n",
    "dividendo=2\n",
    "while valore>=1:\n",
    "    if valore%dividendo==0:\n",
    "        print(dividendo)\n",
    "        valore=valore/dividendo\n",
    "    else:\n",
    "        dividendo+=1\n",
    "    \n"
   ]
  },
  {
   "cell_type": "code",
   "execution_count": 1,
   "id": "902a4272-245a-4200-a62a-61b1525e233f",
   "metadata": {},
   "outputs": [
    {
     "name": "stdout",
     "output_type": "stream",
     "text": [
      "E\n",
      "p\n",
      "i\n",
      "c\n",
      "o\n",
      "d\n",
      "e\n"
     ]
    }
   ],
   "source": [
    "\"\"\"\n",
    "Esercizio Abbiamo la stringa: \n",
    "nome_scuola = \"Epicode\" \n",
    "Stampare ogni carattere della stringa, \n",
    "uno su ogni riga, \n",
    "utilizzando un costrutto for.\n",
    "\"\"\"\n",
    "nome_scuola = \"Epicode\" \n",
    "for carattere in nome_scuola:\n",
    "    print(carattere)"
   ]
  },
  {
   "cell_type": "code",
   "execution_count": 2,
   "id": "55088967-3bc0-4279-9131-f0430c24e019",
   "metadata": {},
   "outputs": [
    {
     "name": "stdout",
     "output_type": "stream",
     "text": [
      "1\n",
      "2\n",
      "4\n",
      "8\n",
      "16\n",
      "32\n",
      "64\n",
      "128\n",
      "256\n",
      "512\n"
     ]
    }
   ],
   "source": [
    "\"\"\"\n",
    "Esercizio\n",
    "Calcolare e stampare tutte le prime 10 potenze di 2\n",
    "utilizzando un ciclo. \n",
    "Utilizzeremo: \n",
    "• un ciclo per generare i primi 10 numeri,\n",
    "\"\"\"\n",
    "for potenze in range(0,10):\n",
    "    print(2**potenze)"
   ]
  },
  {
   "cell_type": "code",
   "execution_count": 6,
   "id": "d124cc56-b4f0-49e7-9d70-0bf5a5cf8447",
   "metadata": {},
   "outputs": [
    {
     "name": "stdin",
     "output_type": "stream",
     "text": [
      "inserisci il numero delle prime N potenze che ti interessano:  3\n",
      "inserisci il valore per cui vuoi calcolare le potenze 5\n"
     ]
    },
    {
     "name": "stdout",
     "output_type": "stream",
     "text": [
      "[125, 25, 5]\n"
     ]
    }
   ],
   "source": [
    "\"\"\"\n",
    "Esercizio \n",
    "Calcolare (ma non stampare)\n",
    "le prime N potenze di K; \n",
    "ognuna di esse andrà memorizzata in coda a una lista.\n",
    "Alla fine, \n",
    "stampare la lista risultante.\n",
    "Proviamo con diversi valori di K,\n",
    "oppure facciamola inserire all'utente.\n",
    "Realizzare due versioni:\n",
    "• con un ciclo while, \n",
    "• con un ciclo for.\n",
    "\"\"\"\n",
    "\n",
    "n=int(input(\"inserisci il numero delle prime N potenze che ti interessano: \"))\n",
    "k=int(input(\"inserisci il valore per cui vuoi calcolare le potenze\"))\n",
    "lista=[]\n",
    "while n>0:\n",
    "    lista.append(k**n)\n",
    "    n-=1\n",
    "print(lista)"
   ]
  },
  {
   "cell_type": "code",
   "execution_count": 13,
   "id": "90b64275-c5f6-4e8b-a1d2-fa3afb473c2f",
   "metadata": {},
   "outputs": [
    {
     "name": "stdin",
     "output_type": "stream",
     "text": [
      "inserisci il numero delle prime N potenze che ti interessano:  3\n",
      "inserisci il valore per cui vuoi calcolare le potenze 5\n"
     ]
    },
    {
     "name": "stdout",
     "output_type": "stream",
     "text": [
      "[125, 25, 5]\n"
     ]
    }
   ],
   "source": [
    "n=int(input(\"inserisci il numero delle prime N potenze che ti interessano: \"))\n",
    "k=int(input(\"inserisci il valore per cui vuoi calcolare le potenze\"))\n",
    "esponenti=[]\n",
    "lista=[]\n",
    "while n>0:\n",
    "    esponenti.append(n)\n",
    "    n-=1\n",
    "for potenze in esponenti:\n",
    "    lista.append(k**potenze)\n",
    "print(lista)"
   ]
  },
  {
   "cell_type": "code",
   "execution_count": 16,
   "id": "453f9945-eee2-4c72-8ee8-6b0b2b0d0769",
   "metadata": {},
   "outputs": [
    {
     "name": "stdout",
     "output_type": "stream",
     "text": [
      "70.0\n"
     ]
    }
   ],
   "source": [
    "\"\"\"\n",
    "Esercizio\n",
    "Abbiamo una lista con i guadagni degli ultimi 12 mesi:\n",
    "guadagni = [100, 90, 70, 40, 50, 80, 90, 120, 80, 20, 50, 50] \n",
    "usando un costrutto for, \n",
    "calcolare la media dei guadagni e stamparla a video.\n",
    "\"\"\"\n",
    "guadagni = [100, 90, 70, 40, 50, 80, 90, 120, 80, 20, 50, 50] \n",
    "somma=0\n",
    "for numeri in guadagni:\n",
    "    somma=somma + numeri\n",
    "print(somma/len(guadagni))"
   ]
  },
  {
   "cell_type": "code",
   "execution_count": 41,
   "id": "bceffc93-e844-4626-a9ef-514f2f8fbf16",
   "metadata": {},
   "outputs": [
    {
     "name": "stdout",
     "output_type": "stream",
     "text": [
      "Albergo 1\n",
      "Sedia 1\n",
      "Petalo 1\n",
      "Eremo 2\n",
      "Belvedere 4\n",
      "Semestre 3\n",
      "Esteta 2\n",
      "Orpello 1\n",
      "Abete 2\n",
      "Cesta 1\n",
      "Ermellino 2\n"
     ]
    }
   ],
   "source": [
    "\"\"\"\n",
    "Esercizio\n",
    "Abbiamo una lista di parole:\n",
    "parole = [\"Albergo\", \"Sedia\", \"Borgo\", \"Petalo\", \"Eremo\", \"Belvedere\", \"Semestre\", \"Esteta\", \"Sosta\", \"Orpello\", \"Abete\", \"Orologio\", \"Cesta\", \"Ermellino\"] \n",
    "stampiamo, per ogni parola, \n",
    "quante volte appare la lettera \"e\"; \n",
    "facciamo attenzione al fatto che appare sia maiuscola che minuscola.\n",
    "\"\"\"\n",
    "parole = [\"Albergo\", \"Sedia\", \"Borgo\", \"Petalo\", \"Eremo\", \"Belvedere\", \"Semestre\", \"Esteta\", \"Sosta\", \"Orpello\", \"Abete\", \"Orologio\", \"Cesta\", \"Ermellino\"]\n",
    "contattore=0\n",
    "\n",
    "for parola in parole:\n",
    "    if \"e\" in parola.lower():\n",
    "        print(parola, parola.lower().count(\"e\"))\n",
    "    "
   ]
  },
  {
   "cell_type": "code",
   "execution_count": null,
   "id": "bdc18d45-dcfa-4de0-9c42-94f920316670",
   "metadata": {},
   "outputs": [],
   "source": [
    "\"\"\"\n",
    "Esercizio \n",
    "Creiamo un dizionario che \n",
    "assegni ad ogni proprietario la sua auto, \n",
    "sapendo che: \n",
    "• Ada guida una Punto \n",
    "• Ben guida una Multipla \n",
    "• Charlie guida una Golf \n",
    "• Debbie guida una 107 \n",
    "Stampiamo il dizionario per intero, e poi l'auto associata a Debbie."
   ]
  },
  {
   "cell_type": "code",
   "execution_count": 50,
   "id": "c6bab394-2ad0-495c-aeeb-cbb3c3c9f369",
   "metadata": {},
   "outputs": [
    {
     "name": "stdout",
     "output_type": "stream",
     "text": [
      "{'Ada': 'Punto', 'Ben': 'Multipla', 'Charlie': 'Golf', 'Debbie': '107'}\n",
      "107\n"
     ]
    }
   ],
   "source": [
    "diz={\"Ada\":\"Punto\", \"Ben\":\"Multipla\", \"Charlie\":\"Golf\", \"Debbie\":\"107\"}\n",
    "print(diz)\n",
    "print(diz[\"Debbie\"])"
   ]
  },
  {
   "cell_type": "code",
   "execution_count": 51,
   "id": "3ca74e06-de51-4998-9633-cabd9e357dc3",
   "metadata": {},
   "outputs": [
    {
     "name": "stdout",
     "output_type": "stream",
     "text": [
      "{'Ada': 'Punto', 'Ben': 'Polo', 'Charlie': 'Golf', 'Debbie': '107', 'Emily': 'A1', 'Fred': 'Octavia', 'Grace': 'Yaris', 'Hugh': 'Clio'}\n"
     ]
    }
   ],
   "source": [
    "\"\"\"\n",
    "Esercizio \n",
    "Abbiamo due dizionari \n",
    "che assegnano ad ogni proprietario la propria auto:\n",
    "dizionario_auto = {\"Ada\": \"Punto\", \"Ben\": \"Multipla\", \"Charlie\": \"Golf\", \"Debbie\": \"107\", \"Emily\": \"A1\"} \n",
    "nuovi_proprietari = {\"Ben\": \"Polo\", \"Fred\": \"Octavia\", \"Grace\": \"Yaris\", \"Hugh\": \"Clio\"} \n",
    "Aggiornare il dizionario dizionario_auto con i dati contenuti in nuovi_proprietari e stamparlo.\n",
    "Cosa è successo a Ben?\n",
    "\"\"\"\n",
    "\n",
    "dizionario_auto = {\"Ada\": \"Punto\", \"Ben\": \"Multipla\", \"Charlie\": \"Golf\", \"Debbie\": \"107\", \"Emily\": \"A1\"} \n",
    "nuovi_proprietari = {\"Ben\": \"Polo\", \"Fred\": \"Octavia\", \"Grace\": \"Yaris\", \"Hugh\": \"Clio\"} \n",
    "\n",
    "dizionario_auto.update(nuovi_proprietari)\n",
    "\n",
    "print(dizionario_auto)\n",
    "\n",
    "# Ben ha cambiato auto\n"
   ]
  },
  {
   "cell_type": "code",
   "execution_count": null,
   "id": "6c6b0eeb-1603-4a95-b1ca-3642c74bd6cb",
   "metadata": {},
   "outputs": [],
   "source": [
    "\"\"\"\n",
    "Esercizio \n",
    "Osservando la sintassi dei dizionari,\n",
    "possiamo notare qualche affinità con il formato JSON?\n",
    "\"\"\"\n",
    "#Le chiavi dei dizionari Python possono essere solo stringhe.\n",
    "#Le chiavi duplicate non sono ammesse nei dizionari Python."
   ]
  },
  {
   "cell_type": "code",
   "execution_count": 53,
   "id": "94133533-a86f-41b1-914e-5eac547dad26",
   "metadata": {},
   "outputs": [
    {
     "name": "stdout",
     "output_type": "stream",
     "text": [
      "Media=  25.636363636363637\n"
     ]
    }
   ],
   "source": [
    "\"\"\"\n",
    "Esercizio \n",
    "Scrivere un programma che,\n",
    "data una lista di numeri, \n",
    "fornisca \n",
    "in output il minimo e il massimo \n",
    "(possiamo usare o meno le funzioni built-in min() e max()).\n",
    "\"\"\"\n",
    "lista=[15,6,49,81,5,33,15,16,8,8,46]\n",
    "somma=0\n",
    "for numeri in lista:\n",
    "    somma+=numeri\n",
    "print(\"Media= \",(somma/len(lista)))"
   ]
  },
  {
   "cell_type": "code",
   "execution_count": 62,
   "id": "2d117dcd-ebee-4597-87af-cc77658f8fa9",
   "metadata": {},
   "outputs": [
    {
     "name": "stdout",
     "output_type": "stream",
     "text": [
      "81\n",
      "49\n",
      "46\n"
     ]
    }
   ],
   "source": [
    "\"\"\"\n",
    "Esercizio \n",
    "Scrivere un programma che, \n",
    "data una lista di numeri, \n",
    "fornisca in output i tre numeri più grandi;\n",
    "gestire il caso in cui la lista sia più corta di tre,\n",
    "e quando uno o più dei numeri selezionati sono uguali.\n",
    "\"\"\"\n",
    "\n",
    "lista=[15,6,49,81,5,33,15,16,8,8,46]\n",
    "primo=0\n",
    "secondo=0\n",
    "terzo=0\n",
    "if len(lista)<3:\n",
    "    print(\"lista troppo corta\")\n",
    "else:\n",
    "    for numero in lista:\n",
    "        if numero>primo:\n",
    "            primo=numero\n",
    "    for numero in lista:\n",
    "        if numero!=primo:\n",
    "            if numero>secondo:\n",
    "                secondo=numero\n",
    "    for numero in lista:\n",
    "        if numero!=primo and numero!=secondo:\n",
    "            if numero>terzo:\n",
    "                terzo=numero\n",
    "print(primo)\n",
    "print(secondo)\n",
    "print(terzo)\n",
    "if primo==secondo or primo==terzo or secondo==terzo:\n",
    "    print(\"ci sono numeri uguali\")"
   ]
  },
  {
   "cell_type": "code",
   "execution_count": 74,
   "id": "7c764cac-4bfd-4fe0-97bd-1ca376338c57",
   "metadata": {},
   "outputs": [
    {
     "name": "stdin",
     "output_type": "stream",
     "text": [
      "Inserisci un numero (oppure 'fine' per terminare):  5\n",
      "Inserisci un numero (oppure 'fine' per terminare):  7\n",
      "Inserisci un numero (oppure 'fine' per terminare):  9\n",
      "Inserisci un numero (oppure 'fine' per terminare):  fine\n",
      "Inserisci il valore di K:  7\n"
     ]
    },
    {
     "name": "stdout",
     "output_type": "stream",
     "text": [
      "La media dei numeri maggiori o uguali a 7.0 è: 8.0\n"
     ]
    }
   ],
   "source": [
    "\"\"\"\n",
    "Esercizio\n",
    "Scrivere un programma che \n",
    "• in input acquisisce una lista di numeri e un numero K \n",
    "• in output, dovrà restituire la media di tutti i numeri nella lista maggiori o uguali a K \n",
    "• se non ce ne dovesse essere nessuno, dovrà stampare a schermo un messaggio adeguato.\n",
    "\"\"\"\n",
    "def calcola_media_maggiori_uguale_k(lista, k):\n",
    "  numeri_maggiori_uguali_k = []\n",
    "  for numero in lista:\n",
    "    if numero >= k:\n",
    "      numeri_maggiori_uguali_k.append(numero)\n",
    "\n",
    "  if numeri_maggiori_uguali_k:\n",
    "    media = sum(numeri_maggiori_uguali_k) / len(numeri_maggiori_uguali_k)\n",
    "    return media\n",
    "  else:\n",
    "    return None\n",
    "\n",
    "lista_numeri = []      \n",
    "while True:\n",
    "  numero = input(\"Inserisci un numero (oppure 'fine' per terminare): \")\n",
    "  if numero.lower() == \"fine\":\n",
    "    break\n",
    "  else:\n",
    "    try:\n",
    "      numero = float(numero)\n",
    "      lista_numeri.append(numero)\n",
    "    except ValueError:\n",
    "      print(\"Errore: il valore inserito non è un numero valido.\")\n",
    "\n",
    "\n",
    "k = float(input(\"Inserisci il valore di K: \"))\n",
    "\n",
    "\n",
    "media = calcola_media_maggiori_uguale_k(lista_numeri, k)\n",
    "\n",
    "if media is not None:\n",
    "  print(f\"La media dei numeri maggiori o uguali a {k} è: {media}\")\n",
    "else:\n",
    "  print(f\"Non ci sono numeri maggiori o uguali a {k} nella lista.\")\n",
    "\n",
    "\n",
    "\n"
   ]
  },
  {
   "cell_type": "code",
   "execution_count": 86,
   "id": "56c2d969-346c-483a-bc0a-d1b9c5cefc3c",
   "metadata": {},
   "outputs": [
    {
     "name": "stdout",
     "output_type": "stream",
     "text": [
      "*****\n",
      "**\n",
      "***\n",
      "****\n"
     ]
    }
   ],
   "source": [
    "\"\"\"\n",
    "Esercizio\n",
    "Scrivere un programma che,\n",
    "data una lista di numeri, \n",
    "come output stamperà lo stesso numero di asterischi su righe diverse, \n",
    "ottenendo una semplice visualizzazione grafica \n",
    "Esempio, \n",
    "supponendo di avere il seguente input: \n",
    "numeri = [5, 2, 3, 4] \n",
    "L'output sarà: \n",
    "***** \n",
    "** \n",
    "*** \n",
    "****\n",
    "\"\"\"\n",
    "numeri = [5, 2, 3, 4]\n",
    "for numero in numeri:\n",
    "    print(numero * \"*\")\n",
    "    "
   ]
  },
  {
   "cell_type": "code",
   "execution_count": 90,
   "id": "e2e6d491-e84f-4517-9e3d-7548a615182d",
   "metadata": {},
   "outputs": [
    {
     "name": "stdout",
     "output_type": "stream",
     "text": [
      "['ABCDEF95G01A123B', 'STUVWX95Z04A654E', 'DEFGHI95J06A987G']\n",
      "ABC DEF\n",
      "STU VWX\n",
      "DEF GHI\n"
     ]
    }
   ],
   "source": [
    "\"\"\"\n",
    "Esercizio \n",
    "Abbiamo una lista di codici fiscali: \n",
    "lista_cf = [\"ABCDEF95G01A123B\", \"GHIJKL91M02A321C\", \"MNOPQR89S03A456D\", \"STUVWX95Z04A654E\", \"XYZABC01D05A789F\", \"DEFGHI95J06A987G\"] \n",
    "• trovare i codici fiscali che contengono \"95\",\n",
    "metterli in una lista, \n",
    "e alla fine stamparla; \n",
    "• inoltre, per ognuno di essi, \n",
    "stampare a video i caratteri relativi al nome \n",
    "e quelli relativi al cognome\n",
    "\"\"\"\n",
    "lista_cf= [\"ABCDEF95G01A123B\", \"GHIJKL91M02A321C\", \"MNOPQR89S03A456D\", \"STUVWX95Z04A654E\", \"XYZABC01D05A789F\", \"DEFGHI95J06A987G\"]\n",
    "lista=[]\n",
    "for codici in lista_cf:\n",
    "    if \"95\" in codici:\n",
    "        lista.append(codici)\n",
    "print(lista)\n",
    "\n",
    "for codici in lista:\n",
    "    print(codici[:3], codici[3:6])"
   ]
  },
  {
   "cell_type": "code",
   "execution_count": 92,
   "id": "bf9b3255-ec1e-4395-9f43-ebb68b0d6eae",
   "metadata": {},
   "outputs": [
    {
     "name": "stdout",
     "output_type": "stream",
     "text": [
      "Alex\n",
      "Faith\n"
     ]
    }
   ],
   "source": [
    "\"\"\"\n",
    "Esercizio\n",
    "Abbiamo tre liste della stessa lunghezza, \n",
    "dove ogni elemento nella medesima posizione si riferisce ai dati dello stesso studente:\n",
    "studenti = [\"Alex\", \"Bob\", \"Cindy\", \"Dan\", \"Emma\", \"Faith\", \"Grace\", \"Henry\"] \n",
    "corsi = [\"Cybersecurity\", \"Data Analyst\", \"Backend\", \"Frontend\", \"Data Analyst\", \"Backend\", \"Frontend\", \"Cybersecurity\"] \n",
    "edizioni = [1, 2, 3, 2, 2, 1, 3, 3] \n",
    "• Stampare a video tutti e soli gli studenti che frequentano una prima edizione; \n",
    "non tutti i dati potrebbero essere necessari.\n",
    "\"\"\"\n",
    "studenti = [\"Alex\", \"Bob\", \"Cindy\", \"Dan\", \"Emma\", \"Faith\", \"Grace\", \"Henry\"] \n",
    "corsi = [\"Cybersecurity\", \"Data Analyst\", \"Backend\", \"Frontend\", \"Data Analyst\", \"Backend\", \"Frontend\", \"Cybersecurity\"] \n",
    "edizioni = [1, 2, 3, 2, 2, 1, 3, 3] \n",
    "studenti_info = dict(zip(studenti, zip(corsi, edizioni)))\n",
    "\n",
    "\n",
    "for studente, (corso, edizione) in studenti_info.items():\n",
    "    if edizione == 1:\n",
    "        print(studente)"
   ]
  },
  {
   "cell_type": "code",
   "execution_count": 94,
   "id": "a823b697-2b1d-4a18-a86c-264457896a1b",
   "metadata": {},
   "outputs": [
    {
     "name": "stdout",
     "output_type": "stream",
     "text": [
      "['100 $', '200 $', '500 $', '10 $', '50 $', '70 $']\n"
     ]
    }
   ],
   "source": [
    "\"\"\"\n",
    "Abbiamo una lista di stringhe di prezzi in dollari,\n",
    "che erroneamente sono stati scritti con il simbolo dell'euro:\n",
    "prezzi = [\"100 €\", \"200 €\", \"500 €\", \"10 €\", \"50 €\", \"70 €\"] \n",
    "cambiare il simbolo dell'euro (€) in quello del dollaro ($) \n",
    "per ogni stringa nella lista; \n",
    "il risultato sarà memorizzato in un'altra lista.\n",
    "\"\"\"\n",
    "\n",
    "prezzi = [\"100 €\", \"200 €\", \"500 €\", \"10 €\", \"50 €\", \"70 €\"] \n",
    "prezzi_dollaro = []\n",
    "\n",
    "for prezzo in prezzi:\n",
    "  prezzo_convertito = prezzo.replace(\"€\", \"$\")\n",
    "  prezzi_dollaro.append(prezzo_convertito)\n",
    "\n",
    "print(prezzi_dollaro)\n",
    "        "
   ]
  },
  {
   "cell_type": "code",
   "execution_count": 97,
   "id": "e6caa295-119b-412a-95db-c42044e23ac5",
   "metadata": {},
   "outputs": [
    {
     "name": "stdout",
     "output_type": "stream",
     "text": [
      "Squadra pari:\n",
      "- Alex\n",
      "- Cindy\n",
      "- Emma\n",
      "- Grace\n",
      "- Isabelle\n",
      "Squadra dispari:\n",
      "- Bob\n",
      "- Dan\n",
      "- Faith\n",
      "- Henry\n",
      "- John\n"
     ]
    }
   ],
   "source": [
    "\"\"\"\n",
    "Esercizio \n",
    "Abbiamo una lista di studenti: \n",
    "studenti = [\"Alex\", \"Bob\", \"Cindy\", \"Dan\", \"Emma\", \"Faith\", \"Grace\", \"Henry\", \"Isabelle\", \"John\"]\n",
    "vogliamo dividere gli studenti in due squadre \n",
    "per un campionato di Uno \n",
    "nel seguente modo: \n",
    "selezioneremo i nomi in posizione pari per una squadra,\n",
    "e i nomi in posizione dispari per l'altra. \n",
    "Creiamo due liste per ogni squadra, \n",
    "e alla fine visualizziamole.\n",
    "\"\"\"\n",
    "\n",
    "studenti = [\"Alex\", \"Bob\", \"Cindy\", \"Dan\", \"Emma\", \"Faith\", \"Grace\", \"Henry\", \"Isabelle\", \"John\"]\n",
    "\n",
    "\n",
    "pari = list(range(0, len(studenti), 2))\n",
    "dispari = list(range(1, len(studenti), 2))\n",
    "\n",
    "\n",
    "squadra_pari = [studenti[i] for i in pari]\n",
    "squadra_dispari = [studenti[i] for i in dispari]\n",
    "\n",
    "\n",
    "print(\"Squadra pari:\")\n",
    "for studente in squadra_pari:\n",
    "  print(f\"- {studente}\")\n",
    "\n",
    "print(\"Squadra dispari:\")\n",
    "for studente in squadra_dispari:\n",
    "  print(f\"- {studente}\")\n"
   ]
  },
  {
   "cell_type": "code",
   "execution_count": null,
   "id": "bcd064de-bd86-4cb4-b640-8b476dd81a43",
   "metadata": {},
   "outputs": [],
   "source": []
  }
 ],
 "metadata": {
  "kernelspec": {
   "display_name": "Python 3 (ipykernel)",
   "language": "python",
   "name": "python3"
  },
  "language_info": {
   "codemirror_mode": {
    "name": "ipython",
    "version": 3
   },
   "file_extension": ".py",
   "mimetype": "text/x-python",
   "name": "python",
   "nbconvert_exporter": "python",
   "pygments_lexer": "ipython3",
   "version": "3.11.7"
  }
 },
 "nbformat": 4,
 "nbformat_minor": 5
}
